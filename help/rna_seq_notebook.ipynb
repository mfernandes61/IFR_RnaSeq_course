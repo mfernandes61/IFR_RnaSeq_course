{
 "metadata": {
  "name": "rna_seq_notebook"
 },
 "nbformat": 3,
 "nbformat_minor": 0,
 "worksheets": [
  {
   "cells": [
    {
     "cell_type": "markdown",
     "metadata": {},
     "source": "### Introduction to RNA-seq Data Analysis\n(Myrto Kostadima) RNA Sequencing Analysis Workshop\n( University of Cambridge November, 2016) \n## 1. General information <br>\n<b>Resources used</b> <br>\nTophat: http://ccb.jhu.edu/software/tophat/index.shtml <br>\nCufflinks: http://cole-trapnell-lab.github.io/cufflinks/ <br>\nSamtools: http://samtools.sourceforge.net/ <br>\nIGV genome browser: http://www.broadinstitute.org/igv/ <br>\nEnsembl genome browser: http://www.ensembl.org/ <br>\nHTSeq-count: http://www-huber.embl.de/users/anders/HTSeq/doc/count.html <br>\nDESeq2: http://bioconductor.org/packages/release/bioc/html/DESeq2.html <br>\nDEXSeq: http://bioconductor.org/packages/release/bioc/html/DEXSeq.html <br>\nSTAR: https://github.com/alexdobin/STAR <br>\nOriginal data can be found here: http://www.ebi.ac.uk/ena/data/view/ERA015179 <br>\n"
    },
    {
     "cell_type": "markdown",
     "metadata": {},
     "source": "## 2 Introduction\nThe goal of this hands-on session is to perform some basic tasks in the downstream\nanalysis of RNA-seq data. We will start from RNA-seq data aligned to the zebrafish\ngenome using Tophat. We will perform transcriptome reconstruction using Cufflinks\nand we will compare the gene expression between two different conditions in order to\nidentify differentially expressed genes using Cuffdiff.   \n\n<u><b>Prepare environment</b></u><br>\nWe will use a dataset derived from sequencing of mRNA from Danio rerio embryos in\ntwo different developmental stages. Sequencing was performed on the Illumina platform\nand generated 76bp paired-end sequence data using poly-(A)+ selected RNA.    \nDue to the time constraints of the practical we will only use a subset of the reads.\nThe data files are contained in the subdirectory called data and are the following:\n\u2022 2cells_1.fastq and 2cells_2.fastq: these files are based on RNA-seq data\nof a 2-cell zebrafish embryo, and\n\u2022 6h_1.fastq and 6h_2.fastq: these files are based on RNA-seq data of zebrafish\nembryos 6h post fertilisation."
    },
    {
     "cell_type": "markdown",
     "metadata": {},
     "source": "Ensure that you have mapped /coursedata to a local folder within kitematic and copied /course_material to it.   \nCheck that the data folder contains the above-mentioned files"
    },
    {
     "cell_type": "code",
     "collapsed": false,
     "input": "! reveal_answer 1",
     "language": "python",
     "metadata": {},
     "outputs": []
    },
    {
     "cell_type": "code",
     "collapsed": false,
     "input": "",
     "language": "python",
     "metadata": {},
     "outputs": []
    },
    {
     "cell_type": "markdown",
     "metadata": {},
     "source": "<u><b>Alignment</b></u><br>\nThere are numerous tools performing short read alignment and the choice of aligner\nshould be carefully made according to the analysis goals/requirements. Here we will\nuse <B>Tophat</b>, a widely used ultrafast aligner that performs spliced alignments. <a href=\"https://ccb.jhu.edu/software/tophat/index.shtml\">Tophat</A> is\nbased on <a href=\"http://bowtie-bio.sourceforge.net/index.shtml\">Bowtie</a> (a splice-unaware aligner) to perform alignments and uses an indexed\ngenome to keep its memory footprint small and the running time short.   \n(Note: Tophat whilst still frequently used has been superceded by another John Hopkins University  program called <a href=\"http://ccb.jhu.edu/software/hisat2/index.shtml\">HISAT2</a>).  \nBecause of time constraints we will build the index only for one chromosome of the zebrafish genome.<br>\n\nFor this we need the chromosome sequence in fasta format. This is stored in a file\nnamed Danio_rerio.Zv9.66.dna.fa, under the subdirectory genome.   \nThe command to use is <u><b>bowtie-build</b> {path_to_genome/genomefile} {path_to_genome/output_files_prefix}</u>   \nThroughout this material we are assuming that the prefix is ZV9. If you choose something else, modify \nthe example commands appropriately.    "
    },
    {
     "cell_type": "code",
     "collapsed": false,
     "input": "! reveal_answer 2",
     "language": "python",
     "metadata": {},
     "outputs": []
    },
    {
     "cell_type": "code",
     "collapsed": false,
     "input": "",
     "language": "python",
     "metadata": {},
     "outputs": []
    },
    {
     "cell_type": "markdown",
     "metadata": {},
     "source": "This command will output 6 files that constitute the index. These files that have\nthe prefix ZV9 are stored in the genome subdirectory. Check that the files have been\nsuccessfully created."
    },
    {
     "cell_type": "code",
     "collapsed": false,
     "input": "! reveal_answer 3",
     "language": "python",
     "metadata": {},
     "outputs": []
    },
    {
     "cell_type": "code",
     "collapsed": false,
     "input": "",
     "language": "python",
     "metadata": {},
     "outputs": []
    },
    {
     "cell_type": "markdown",
     "metadata": {},
     "source": "Now that the genome is indexed we can move on to the actual alignment. Tophat has\na number of parameters in order to perform the alignment. To view them all type\n<b>tophat --help</b>    \nThe general format of the tophat command is:\ntophat [options]* {index_base} {reads_1} {reads_2}\nWhere the last two arguments are the .fastq files of the paired end reads, and the\nargument before is the basename of the indexed genome.\nSome parameters that we are going to use to run Tophat are listed below:\n-g maximum number of multihits allowed. Short reads are likely to map to\nmore than one locations in the genome even though these reads can\nhave originated from only one of these regions. In RNA-seq we allow\nfor a restricted number of multihits, and in this case we ask Tophat\nto report only reads that map at most onto 2 different loci.\n-p use these many threads to align reads\n--library-type before performing any type of RNA-seq analysis you need\nto know a few things about the library preparation. Was it done using\na strand-specific protocol or not? If yes, which strand? In our data\nthe protocol was NOT strand specific.\n-j improve spliced alignment by providing *Tophat* with annotated splice\njunctions. Pre-existing genome annotation is an advantage when\nanalysing RNA-seq data. This file contains the coordinates of\nannotated splice junctions from Ensembl. These are stored under the\nsub-directory annotation in a file called `ZV9.spliceSites`.\n-o this specifies in which subdirectory *Tophat* should save the output\nfiles.   Given that for every run the name of the output files is the\nsame, we specify different folders for each run.\nNow we will proceed with the alignment of the paired-end data for the two different\nconditions. Due to the fact that the spliced alignment takes long even for a subset of\nthe reads, we will only align one of the two datasets. The other one has been already\naligned for you.\nQuestion 1.   \nGiven that we used the following command to align the 2cells dataset:   \n<b>tophat --solexa-quals -g 2 -p 4 --library-type fr-unstranded -j\nannotation/Danio_rerio.Zv9.66.spliceSites -o tophat/ZV9_2cells   \n genome/ZV9 data/2cells_1.fastq data/2cells_2.fastq</b>   \nWhat is the command required to align the \u20186h\u2019 dataset? Run this command on the\nterminal.\nNote: You will have to change the input fastq files and the output folder. If you don\u2019t\nchange the output folder, then these results will overwrite the ones for the 2cells\ndataset."
    },
    {
     "cell_type": "code",
     "collapsed": false,
     "input": " reveal_answer 4",
     "language": "python",
     "metadata": {},
     "outputs": []
    },
    {
     "cell_type": "code",
     "collapsed": false,
     "input": "",
     "language": "python",
     "metadata": {},
     "outputs": []
    },
    {
     "cell_type": "markdown",
     "metadata": {},
     "source": "The alignment will take approximately 5 minutes. In the meantime please move on\nwith the practical and we will get back to the terminal once the alignment is done.\nWe will firstly look at some of the files produced by Tophat. For this please open the\nRNA-seq folder which can be found on your /home/participant/Desktop. Click on\nthe tophat subfolder and then on the folder called ZV9_2cells.\nTophat reports the alignments in a BAM file called <i>accepted_hits.bam</i>. Among others\nit also creates a <i>junctions.bed</i> files that stores the coordinates of the splice junctions\npresent in your dataset, as these have been extracted from the spliced alignments.\nNow we will load the BAM file and the splice junctions onto IGV to visualise the\nalignments reported by Tophat.\nIn order to launch IGV type on the terminal  \nigv &   \nIgnore any warnings and when it opens you have to load the genome of interest.\nOn the top left of your screen choose from the drop down menu Zebrafish (Zv9). Then\nin order to load the desire files go to:\nFile \u2013> Load from File\nOn the pop up window navigate to home \u2013> participant \u2013> Desktop\n\u2013> RNA-seq \u2013> tophat \u2013> ZV9_2cells folder and select the file <i>accepted_hits.sorted.bam</i>.    \nOnce the file is loaded right-click on the name of the track on the left and choose   \nRename Track. Give the track a meaningful name.   \nFollow the same steps in order to load the <i>junctions.bed</i> file from the same folder.\nFinally following the same process load the Ensembl annotation <i>Danio_rerio.Zv9.66.gtf</i>\nstored under folder <i>annotation</i> under the RNA-seq folder.\nOn the top middle box you can specify the region you want your browser to zoom.\nType chr12:20,270,921- 20,300,943.\nRight-click on the name of the Ensembl track and choose Expanded.   \n<br>\nQuestions\n1. Can you identify the splice junctions from the BAM file?    \n2. Are the junctions annotated for CBY1 consistent with the annotation?    \n3. Are all annotated genes (both from RefSeq and Ensembl) expressed?   \nOnce you are done with the questions above, please close IGV.   \n\nWe already know that in order to load a BAM file onto IGV we need to\nhave this file sorted by genomic location and indexed. Here\u2019s a reminder of\nthe commands to perform these: Sort the BAM file using samtools:\nsamtools sort [bam file to be sorted] -o [output file name]\nIndex the sorted file.\nsamtools index [sorted bam file]"
    },
    {
     "cell_type": "markdown",
     "metadata": {},
     "source": "Once Tophat finishes running, sort the output.bam file and then index the sorted.bam\nfile using the information above to guide you.\nLaunch IGV again. This time we will change the configuration of IGV as described\nbelow. Go to:    \nView \u2013> Preferences\nClick on the tab Alignments and further down on the window tick the option Show\njunction track. Then type 5 in the box of the Min junction coverage. Click OK.\nFinally, load the alignments for the two datasets onto IGV following the steps described\nabove. Please, load the Ensembl annotation as well."
    },
    {
     "cell_type": "markdown",
     "metadata": {},
     "source": "<b><u>Isoform expression and transcriptome assembly</u></b>   \nThere are a number of tools that perform reconstruction of the transcriptome and for\nthis workshop we are going to use <b>Cufflinks</b>. Cufflinks can do transcriptome assembly\neither ab initio or using a reference annotation. It also quantifies the isoform expression\nin FPKMs (Fragments Per Kilobase of exon per Million fragments mapped).   \nCufflinks has a number of parameters in order to perform transcriptome assembly and\nquantification. To view them all type cufflinks --help   \nWe aim to reconstruct the transcriptome for both samples by using the Ensembl annotation\nboth strictly and as a guide. In the first case Cufflinks will only report isoforms\nthat are included in the annotation, while in the latter case it will report novel isoforms\nas well.   \nThe annotation from Ensembl of Danio rerio is stored under the folder annotation in\na file called <i>Danio_rerio.Zv9.66.gtf</i>.   \n\nThe general format of the cufflinks command is:   \ncufflinks [options] {aligned_reads.(sam/bam)}\nWhere the input is the aligned reads (either in SAM or BAM format).\nSome of available parameters of Cufflinks that we are going to use to run Cufflinks are\nlisted below:\n-o output directory   \n-G tells Cufflinks to use the supplied annotation strictly in order to\nestimate isoform annotation.   \n-b instructs Cufflinks to run a bias detection and correction    \nalgorithm which can significantly improve accuracy of transcript \nabundance estimates. To do this *Cufflinks* requires a multi-fasta\nfile with the genomic sequences against which we have aligned the\nreads.   \n-u tells Cufflinks to do an initial estimation procedure to more\naccurately weight reads mapping to multiple locations in the genome\n(multi-hits).    \n--library-type see Tophat parameters.    \n-p see Tophat parameters.   \nIn the Notebook field below type:   \ncufflinks -o cufflinks/ZV9_2cells_gff -G annotation/Danio_rerio.Zv9.66.gtf \\   \n-p 8 -b genome/Danio_rerio.Zv9.66.dna.fa -u --library-type fr-unstranded \\   \ntophat/ZV9_2cells/accepted_hits.bam   \n\n(pre-fixed by the obligatory '!' to allow Ipython notebook to run the command)   "
    },
    {
     "cell_type": "code",
     "collapsed": false,
     "input": "",
     "language": "python",
     "metadata": {},
     "outputs": []
    },
    {
     "cell_type": "markdown",
     "metadata": {},
     "source": "Questions:    \n1. Given the previous command for 2cells dataset, how would you run Cufflinks\nfor the other dataset 6h? Run this command on the terminal. Don\u2019t forget to\nchange the output folder. Otherwise the second command will overwrite the\nresults of the previous run.   \nTake a look at the output folders that have been created. The results from Cufflinks\nare stored in 4 different files named:   \n\u2022 genes.fpkm_tracking    \n\u2022 isoforms.fpkm_tracking    \n\u2022 skipped.gtf   \n\u2022 transcripts.gtf   \nHere\u2019s a short description of these files:   \n\u2022 genes.fpkm_tracking: contains the estimated gene-level expression values.   \n\u2022 isoforms.fpkm_tracking: contains the estimated isoform-level expression values.   \n\u2022 transcripts.gtf: This GTF file contains Cufflinks assembled isoforms   \n\nThe complete documentation can be found at:   \nhttp://cole-trapnell-lab.github.io/cufflinks/cufflinks/#cufflinks-output-files   \n\nNow in order to perform guided transcriptome assembly (transcriptome assembly that\nreports novel transcripts as well) we will have to change the -G option of the previous\ncommand. In its place we will use the -g option that tells Cufflinks to assemble\nthe transcriptome using the supplied annotation as a guide and allowing for novel\ntranscripts.\nQuestions\nDue to time constraints, please do not run the command for guided transcriptome\nanalysis. Instead, write the cufflinks command you would use to perform a guided\ntranscriptome assembly for the 2cells dataset in the space below."
    },
    {
     "cell_type": "code",
     "collapsed": false,
     "input": "",
     "language": "python",
     "metadata": {},
     "outputs": []
    },
    {
     "cell_type": "markdown",
     "metadata": {},
     "source": "Performing the guided transcriptome analysis for the 2cells and 6h data sets would\ntake 15-20min each. Therefore, we have pre-computed these for you and have the\nresults under subdirectories: cufflinks/ZV9_2cells and cufflinks/ZV9_6h.\nGo back to the IGV browser and load the file transcripts.gtf which is located in the\nsubdirectory cufflinks/ZV9_2cells/. Rename the track into something meaningful.\nThis file contains the transcripts that Cufflinks assembled based on the alignment of\nour reads onto the genome.   \nQuestions:   \nIn the search box type ENSDART00000082297 in order for the browser to zoom in to\nthe gene of interest. Compare between the already annotated transcripts and the ones\nassembled by Cufflinks. Do you observe any difference?"
    },
    {
     "cell_type": "markdown",
     "metadata": {},
     "source": "<b><u>Differential Expression</u></b>   \nOne of the stand-alone tools that perform differential expression analysis is Cuffdiff.\nWe use this tool to compare between two conditions; for example different conditions\ncould be control and disease, or wild-type and mutant, or various developmental stages.\nIn our case we want to identify genes that are differentially expressed between two\ndevelopmental stages; a 2 cell embryo and 6h post fertilization.\nThe general format of the cuffdiff command is:\ncuffdiff [options] {transcripts.gtf}\n{sample1_replicate1.sam[,...,sample1_replicateM]}\n{sample2_replicate1.sam[,...,sample2_replicateM.sam]}\nWhere the input includes a transcripts.gtf file, which is an annotation file of the\ngenome of interest, and the aligned reads (either in SAM or BAM format) for the\nconditions.\nSome of the Cufflinks options that we will use to run the program are:    \n-o output directory,    \n-L labels for the different conditions,   \n-T tells *Cuffdiff* that the reads are from a time series experiment,   \n-b, -u, --library-type: same as above in Cufflinks.   \n\nTo run cufdiff type on the terminal type:\ncuffdiff -o cuffdiff/ -L ZV9_2cells,ZV9_6h -T -b\ngenome/Danio_rerio.Zv9.66.dna.fa -u --library-type fr-unstranded\nannotation/Danio_rerio.Zv9.66.gtf tophat/ZV9_2cells/accepted_hits.bam\ntophat/ZV9_6h/accepted_hits.bam   \n\nIn the command above we have assumed that the folder where you stored\nthe results of Tophat for dataset 6h was named ZV9_6h. If this is not the\ncase please change the previous command accordingly otherwise you will\nget an error.    \nWe are interested in the differential expression at the gene level. The results are\nreported by Cuffdiff in the file cuffdiff/gene_exp.diff.\nLook at the first few lines of the file using the following command:\nhead -n 20 cuffdiff/gene_exp.diff\nWe would like to see which are the most significantly differentially expressed\ngenes. Therefore we will sort the above file according to the q value (corrected\np value for multiple testing). The result will be stored in a different file called\ngene_exp_qval.sorted.diff.\nsort -t$'\\t' -g -k 13 cuffdiff/gene_exp.diff >\ncuffdiff/gene_exp_qval.sorted.diff\nLook again at the first few lines of the sorted file by typing:\nhead -n 20 cuffdiff/gene_exp_qval.sorted.diff\nCopy the Ensembl identifier of one of these genes. Now go back to the IGV browser\nand paste it in the search box. Look at the raw aligned data for the two datasets.\nQuestions\nDo you see any difference in the gene coverage between the two conditions that would\njustify that this gene has been called as differentially expressed?\nNote that the coverage on the Ensembl browser is based on raw reads and\nno normalisation has taken place contrary to the FPKM values."
    },
    {
     "cell_type": "markdown",
     "metadata": {},
     "source": "<b><u>Functional Annotation of Differentially Expressed\ngenes</u></b>   \nAfter you have performed the differential expression analysis you are interested in\nidentifying if there is any functionality enrichment for your differentially expressed\ngenes.\nOpen a web browser and go to the following URL http://david.abcc.ncifcrf.gov/\nOn the left side click on Functional Annotation. Then click on the Upload tab. Under\nthe section Choose from File, click Choose File and navigate to the cuffdiff\nfolder. Select the file called globalDiffExprs_Genes_qval.01_top100.tab. Under\nStep 2 select ENSEMBL_GENE_ID from the drop-down menu. Finally select Gene\nList and then press Submit List.\nClick on Gene Ontology and then click on the CHART button of the GOTERM_BP_ALL\nitem.\nQuestions\nDo these categories make sense given the samples we\u2019re studying?\nBrowse around DAVID website and check what other information are available.\nCONGRATULATIONS! You\u2019ve made it to the end of the practical.\nWe hope you enjoyed it!"
    },
    {
     "cell_type": "markdown",
     "metadata": {},
     "source": "<b><u>Bonus Exercise I</u></b>   \nDuring the alignment step of the practical you set the -j parameter to a file that\ncontains all the annotated splice junctions. How can we generate this file for the\nmouse genome?\n\u2022 Google ensembl mouse GTF, go to FTP Download - Ensembl and then download\nthe gene annotation file (GTF format) for the mouse genome. Hint: Please do\nNOT download the abinitio GTF file.\n\u2022 Store it under the RNA-seq/annotation folder\n11\n\u2022 Decompress the GTF file using gzip -d followed by the GTF file\n\u2022 Use the gtf_juncs command to extract the splice junctions from the decompressed\nGTF file and store the output under the annotation folder in a file called:\nmouse.juncs"
    },
    {
     "cell_type": "code",
     "collapsed": false,
     "input": "",
     "language": "python",
     "metadata": {},
     "outputs": []
    },
    {
     "cell_type": "markdown",
     "metadata": {},
     "source": "Bonus Exercise II - Read mapping with STAR\nSTAR is a new aligner for RNA-seq, described here: https://github.com/alexdobin/\nSTAR/\nThe software is already installed on your computers.\nThe documentation for STAR is available here: https://github.com/alexdobin/STAR/\nraw/master/doc/STARmanual.pdf\nAs with Tophat, we first need to index the reference genome. Have a look at section\n1.2 and 2.1 of the manual to see how this is done. You do not need to install STAR or\nprovide any advanced options.\nStep 1: Prepare the genome index\nIf you are not already in the RNA-seq directory, please change your working directory\nto it using cd.\nCreate a new directory called STAR_genome using mkdir. This will be your genome\ndirectory.\nThen, generate the genome index using the following parameters:\n\u2022 Number of threads: 4\n\u2022 Genome dir: The genome directory you just created.\n\u2022 Genome fasta file: The genome FASTA file (ends in .fa, contained in the folder\ngenome)\n\u2022 Sjdb GTF file: The full genome annotation file from ENSEMBL (ends in .gtf,\ncontained in the folder annotation)\n\u2022 Sjdb overhang: Your read length - 1 (Hint: use FastQC to check the read length\nin one of the fastq files in the data folder!)\nStep 2: Run the alignment\nNow you can align the fastq files to the genome. The commands for this are explained\nin section 3.1 of the manual.\n12\nNow align the pair of files from the 2cells sample to the genome, using the following\nparameters:\n\u2022 Number of threads: 4\n\u2022 Genome dir: STAR_genome\n\u2022 Fastq files: The two fastq files from the 2cells sample, contained in the folder\ndata (Remember: this is paired-end data, so you need to provide the file names\nof both files at the same time!)\n\u2022 Add the outSAMtype parameter to generate a BAM file sorted by coordinate (see\nsection 4.3)\nQuestions\n1. Have a look at the log file generated by STAR called Log.final.out. How many\nreads could STAR map to the genome? How does that compare to Tophat?\nHint: You can find mapping statistics from Tophat using samtools flagstat\non the tophat/ZV9_2cells/accepted_hits.bam file.\n2. Can you think of a reason for the difference in number of aligned reads? How\nmany initial reads does the 2cells dataset contain?\nHint: Run the following command instead on the tophat/ZV9_2cells/accepted_hits.bam\nfile:\nsamtools view tophat/ZV9_2cells/accepted_hits.bam | cut -f 1 | sort -u |\nwc -l\nBonus Exercise III\nIn the transcriptome assembly part we discussed how multi-mapping might has an\neffect on the transcriptome assembly of novel transcripts. Let us re-do this part of the\nanalysis using only uniquely mapped reads. During this exercise we will also learn how\nto extract splice junctions in a .BED file from a BAM file.\n\u2022 Filter the 2cells BAM file to only contain uniquely aligned reads\n13\n\u2013 Hint: use samtools view to keep only those with a mapping score equal to\n50\n\u2013 Check the samtools view manual on how to do that.\n\u2013 Store the output in a file called: 2cells_unique.bam\n\u2022 Remove duplicates from the 2cells_unique.bam file using the MarkDuplicates\napplication from picard tools.\n\u2013 Hint: To call picard tools on this computer use java -jar $PICARD\nMarkDuplicates and add any options needed for the task you want to\nperform. By default this function only marks duplicates. However, what\nwe want is to remove them too. Find the right option in the tool manual\nto do so.\n\u2022 Store the output in a file called 2cells_unique_rmdup.bam\n\u2022 To extract the splice junctions from the 2cells_unique_rmdup.bam follow the\nsuggested solution from user brentp in this thread: https://www.biostars.org/\np/12626/\n\u2013 Attention: In our case we start from a BAM file rather than a SAM file.\nHence the first samtools command suggested needs to be changed so as to\nconvert BAM to SAM. Keep the -h option because we also need the header\nof the file (see below why).\n\u2013 Attention: The awk command suggested in his answer should be changed\nto awk ($6 ~ /N/ || $0 ~ /^@/)\nThis will ensure that you also keep the header of the BAM file, which is\nessential when you\u2019d like to convert SAM to BAM. Otherwise samtools will\ngive you the following error.\n[E::sam_parse1] missing SAM header\n[W::sam_read1] parse error at line 1\n[main_samview] truncated file.\n\u2022 Run the guided Cufflinks transcriptome assembly on this new BAM file\n\u2022 Compare the two transcripts.gtf (the one from cufflinks/2cells/transcripts.gtf\nand the one you just generated) using cuffcompare.\n\u2022 Load them both on IGV and have a look at the results. Do you observe any\ndifferences in the transcriptome assembly around the ENSDART00000082297 transcript?"
    },
    {
     "cell_type": "markdown",
     "metadata": {},
     "source": "<b><u>Reference Material</u></b>   \n1. Trapnell, C., Pachter, L. & Salzberg, S. L. TopHat: discovering splice junctions\nwith RNA-Seq. Bioinformatics 25, 1105\u20131111 (2009).   \n2. Trapnell, C. et al. Transcript assembly and quantification by RNA-Seq reveals\nunannotated transcripts and isoform switching during cell differentiation. Nat.\nBiotechnol. 28, 511\u2013515 (2010).   \n3. Langmead, B., Trapnell, C., Pop, M. & Salzberg, S. L. Ultrafast and memoryefficient\nalignment of short DNA sequences to the human genome. Genome Biol. 10, R25 (2009).   \n4. Roberts, A., Pimentel, H., Trapnell, C. & Pachter, L. Identification of novel\ntranscripts in annotated genomes using RNA-Seq. Bioinformatics 27, 2325\u20132329\n(2011).   \n5. Roberts, A., Trapnell, C., Donaghey, J., Rinn, J. L. & Pachter, L. Improving\nRNA-Seq expression estimates by correcting for fragment bias. Genome Biol. 12,\nR22 (2011).   \n6. Young MD, Wakefield MJ, Smyth GK and Oshlack A. \u201cGene ontology analysis\nfor RNA-seq: accounting for selection bias.\u201d Genome Biology, 11, pp. R14 (2010).    \n7. Dobin A, et al. STAR: ultrafast universal RNA-seq aligner. Bioinformatics 29,\n15-21 (2012).   \n\n FKPM - http://www.rna-seqblog.com/rpkm-fpkm-and-tpm-clearly-explained/   "
    },
    {
     "cell_type": "code",
     "collapsed": false,
     "input": "",
     "language": "python",
     "metadata": {},
     "outputs": []
    }
   ],
   "metadata": {}
  }
 ]
}